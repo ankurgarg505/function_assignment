{
 "cells": [
  {
   "cell_type": "markdown",
   "id": "54e21e55-616c-4a65-9487-fe74d34a4482",
   "metadata": {},
   "source": [
    "# Q1. Create a python program to sort the given list of tuples based on integer value using a lambda function.\n",
    "# [('Sachin Tendulkar', 34357), ('Ricky Ponting', 27483), ('Jack Kallis', 25534), ('Virat Kohli', 24936)]"
   ]
  },
  {
   "cell_type": "code",
   "execution_count": 129,
   "id": "66c6f231-7bc7-4cbe-9c3b-b7b079fd7079",
   "metadata": {},
   "outputs": [
    {
     "data": {
      "text/plain": [
       "[('Virat Kohli', 24936),\n",
       " ('Jack Kallis', 25534),\n",
       " ('Ricky Ponting', 27483),\n",
       " ('Sachin Tendulkar', 34357)]"
      ]
     },
     "execution_count": 129,
     "metadata": {},
     "output_type": "execute_result"
    }
   ],
   "source": [
    "\n",
    "x = [('Sachin Tendulkar', 34357), ('Ricky Ponting', 27483), ('Jack Kallis', 25534), ('Virat Kohli', 24936)]\n",
    "# sorted(x, key=lambda x: x[1])\n",
    "list(map(lambda _:_, sorted(x, key = lambda item : item[1])))\n"
   ]
  },
  {
   "cell_type": "code",
   "execution_count": null,
   "id": "8707f41b-153d-4381-ab4c-bb8c5d5b16ba",
   "metadata": {},
   "outputs": [],
   "source": []
  },
  {
   "cell_type": "markdown",
   "id": "6aff5b1f-4897-40c9-9df4-411079fc8dba",
   "metadata": {},
   "source": [
    "# Q2. Write a Python Program to find the squares of all the numbers in the given list of integers using\n",
    "# lambda and map functions.\n",
    "# [1, 2, 3, 4, 5, 6, 7, 8, 9, 10]"
   ]
  },
  {
   "cell_type": "code",
   "execution_count": 131,
   "id": "913ae42c-3e2c-4a7a-8b69-3cb148ae3ebf",
   "metadata": {},
   "outputs": [
    {
     "data": {
      "text/plain": [
       "[1, 4, 9, 16, 25, 36, 49, 64, 81, 100]"
      ]
     },
     "execution_count": 131,
     "metadata": {},
     "output_type": "execute_result"
    }
   ],
   "source": [
    "list_1 = [1, 2, 3, 4, 5, 6, 7, 8, 9, 10]\n",
    "g = lambda x : x**2\n",
    "[g(i)for i in list_1]"
   ]
  },
  {
   "cell_type": "code",
   "execution_count": 133,
   "id": "1fe21548-5cd1-4018-991e-ac1c7fa604c8",
   "metadata": {},
   "outputs": [
    {
     "data": {
      "text/plain": [
       "[1, 4, 9, 16, 25, 36, 49, 64, 81, 100]"
      ]
     },
     "execution_count": 133,
     "metadata": {},
     "output_type": "execute_result"
    }
   ],
   "source": [
    "list(map(lambda x: x**2, list_1))"
   ]
  },
  {
   "cell_type": "markdown",
   "id": "22be47bf-a967-4353-a0c3-197469d4386f",
   "metadata": {},
   "source": [
    "# Q3. Write a python program to convert the given list of integers into a tuple of strings. Use map and lambda functions\n",
    "# Given String: [1, 2, 3, 4, 5, 6, 7, 8, 9, 10]\n",
    "# Expected output: ('1', '2', '3', '4', '5', '6', '7', '8', '9', '10')"
   ]
  },
  {
   "cell_type": "code",
   "execution_count": 153,
   "id": "62c9ad92-6eb6-43cc-957e-02dc2a08a648",
   "metadata": {},
   "outputs": [
    {
     "data": {
      "text/plain": [
       "('1', '2', '3', '4', '5', '6', '7', '8', '9', '10')"
      ]
     },
     "execution_count": 153,
     "metadata": {},
     "output_type": "execute_result"
    }
   ],
   "source": [
    "string = [1, 2, 3, 4, 5, 6, 7, 8, 9, 10]\n",
    "g = lambda x : str(x)\n",
    "tuple(g(i)for i in string)"
   ]
  },
  {
   "cell_type": "code",
   "execution_count": 155,
   "id": "aecf35c6-a0d9-404b-acc2-930448b13761",
   "metadata": {},
   "outputs": [
    {
     "data": {
      "text/plain": [
       "('1', '2', '3', '4', '5', '6', '7', '8', '9', '10')"
      ]
     },
     "execution_count": 155,
     "metadata": {},
     "output_type": "execute_result"
    }
   ],
   "source": [
    "tuple(map(lambda x :  str(x), string))"
   ]
  },
  {
   "cell_type": "markdown",
   "id": "a2b57a2f-746c-447a-b99b-cd9b4d080ca7",
   "metadata": {},
   "source": [
    "# Q4. Write a python program using reduce function to compute the product of a list containing numbers from 1 to 25."
   ]
  },
  {
   "cell_type": "code",
   "execution_count": 165,
   "id": "456e0917-44e2-465a-a94a-70aac9c02d19",
   "metadata": {},
   "outputs": [
    {
     "data": {
      "text/plain": [
       "325"
      ]
     },
     "execution_count": 165,
     "metadata": {},
     "output_type": "execute_result"
    }
   ],
   "source": [
    "from functools import reduce\n",
    "list_1 = list(range(1,25+1))\n",
    "\n",
    "sum = reduce(lambda x,y: x+y,list_1)\n",
    "sum"
   ]
  },
  {
   "cell_type": "markdown",
   "id": "6acb8a19-85de-434e-9347-52d1eba7c240",
   "metadata": {},
   "source": [
    "# Q5. Write a python program to filter the numbers in a given list that are divisible by 2 and 3 using the filter function.\n",
    "# [2, 3, 6, 9, 27, 60, 90, 120, 55, 46]"
   ]
  },
  {
   "cell_type": "code",
   "execution_count": 177,
   "id": "b09ffc86-f3d0-4fb3-9be6-ea4d19c0b4b6",
   "metadata": {},
   "outputs": [
    {
     "data": {
      "text/plain": [
       "[6, 60, 90, 120]"
      ]
     },
     "execution_count": 177,
     "metadata": {},
     "output_type": "execute_result"
    }
   ],
   "source": [
    "list_1 = [2, 3, 6, 9, 27, 60, 90, 120, 55, 46]\n",
    "list(filter(lambda x: x%2==0 and x%3==0, list_1))"
   ]
  },
  {
   "cell_type": "code",
   "execution_count": 181,
   "id": "0ab01b0d-4cd6-424c-beed-ae55e2914c9f",
   "metadata": {},
   "outputs": [
    {
     "data": {
      "text/plain": [
       "[6, 60, 90, 120]"
      ]
     },
     "execution_count": 181,
     "metadata": {},
     "output_type": "execute_result"
    }
   ],
   "source": [
    "b = list(map(lambda x: x if x%2==0 and x%3==0 else None, list_1))\n",
    "list(filter(None, b))"
   ]
  },
  {
   "cell_type": "markdown",
   "id": "217f5b24-1eff-4496-a28f-a37a09dfca76",
   "metadata": {},
   "source": [
    "# Q6. Write a python program to find palindromes in the given list of strings using lambda and filter function.\n",
    "# ['python', 'php', 'aba', 'radar', 'level']"
   ]
  },
  {
   "cell_type": "code",
   "execution_count": 184,
   "id": "89cc905d-6874-4d28-ac79-cba67a9e60d8",
   "metadata": {},
   "outputs": [
    {
     "data": {
      "text/plain": [
       "['php', 'aba', 'radar', 'level']"
      ]
     },
     "execution_count": 184,
     "metadata": {},
     "output_type": "execute_result"
    }
   ],
   "source": [
    "pali = ['python', 'php', 'aba', 'radar', 'level']\n",
    "list(filter(lambda x: x==x[::-1], pali))"
   ]
  },
  {
   "cell_type": "code",
   "execution_count": null,
   "id": "068ff26b-0726-433a-952e-7f6ef3529236",
   "metadata": {},
   "outputs": [],
   "source": []
  }
 ],
 "metadata": {
  "kernelspec": {
   "display_name": "Python 3 (ipykernel)",
   "language": "python",
   "name": "python3"
  },
  "language_info": {
   "codemirror_mode": {
    "name": "ipython",
    "version": 3
   },
   "file_extension": ".py",
   "mimetype": "text/x-python",
   "name": "python",
   "nbconvert_exporter": "python",
   "pygments_lexer": "ipython3",
   "version": "3.12.3"
  }
 },
 "nbformat": 4,
 "nbformat_minor": 5
}
